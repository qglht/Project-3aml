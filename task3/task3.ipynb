{
 "cells": [
  {
   "cell_type": "markdown",
   "metadata": {},
   "source": [
    "# Task 3: Helper notebook for loading the data and saving the predictions"
   ]
  },
  {
   "cell_type": "code",
   "execution_count": 1,
   "metadata": {},
   "outputs": [],
   "source": [
    "import pickle\n",
    "import gzip\n",
    "import numpy as np\n",
    "import os\n",
    "import cv2"
   ]
  },
  {
   "cell_type": "markdown",
   "metadata": {},
   "source": [
    "### Helper functions"
   ]
  },
  {
   "cell_type": "code",
   "execution_count": 2,
   "metadata": {},
   "outputs": [],
   "source": [
    "def load_zipped_pickle(filename):\n",
    "    with gzip.open(filename, 'rb') as f:\n",
    "        loaded_object = pickle.load(f)\n",
    "        return loaded_object"
   ]
  },
  {
   "cell_type": "code",
   "execution_count": 3,
   "metadata": {},
   "outputs": [],
   "source": [
    "def save_zipped_pickle(obj, filename):\n",
    "    with gzip.open(filename, 'wb') as f:\n",
    "        pickle.dump(obj, f, 2)"
   ]
  },
  {
   "cell_type": "markdown",
   "metadata": {},
   "source": [
    "### Load data, make predictions and save prediction in correct format"
   ]
  },
  {
   "cell_type": "code",
   "execution_count": 4,
   "metadata": {},
   "outputs": [],
   "source": [
    "# load data\n",
    "train_data = load_zipped_pickle(\"train.pkl\")\n",
    "test_data = load_zipped_pickle(\"test.pkl\")\n",
    "samples = load_zipped_pickle(\"sample.pkl\")"
   ]
  },
  {
   "cell_type": "code",
   "execution_count": 28,
   "metadata": {},
   "outputs": [],
   "source": [
    "from typing import List, Tuple\n",
    "\n",
    "def select_dataset(data:List[dict], quality:str) -> List[dict]:\n",
    "    \"\"\"Selects a dataset from the initial data\n",
    "\n",
    "    Args:\n",
    "        data (List[dict]): initial data (containing amateur and expert)\n",
    "        quality (str): either 'amateur' or 'expert'\n",
    "\n",
    "    Returns:\n",
    "        List[dict]: dataset with only the quality chosen\n",
    "    \"\"\"\n",
    "    return [dict_frames for dict_frames in data if dict_frames[\"dataset\"]==quality]\n",
    "    \n",
    "def select_only_label_images(data:List[dict])->dict:\n",
    "    \"\"\"Retrieves only the images with labels from the dataset\n",
    "\n",
    "    Args:\n",
    "        data (List[dict]): output from select_dataset\n",
    "\n",
    "    Returns:\n",
    "        dict: key: name of the video | value: {\"image\":image, \"label\":label}\n",
    "    \"\"\"\n",
    "    images_labelized = {}\n",
    "    for video in data:\n",
    "        indices_labelized_frames = video[\"frames\"]\n",
    "        for index in indices_labelized_frames:\n",
    "            images_labelized[video[\"name\"]+\"_\"+str(index)] = {\"image\":video[\"video\"][:,:,index], \"label\":video[\"label\"][:,:,index]}\n",
    "    return images_labelized\n",
    "\n",
    "def create_X_y(data_labelized:dict) -> Tuple[np.array, np.array]:\n",
    "    \"\"\"Creates two numpy arrays containing the images and labels\n",
    "\n",
    "    Args:\n",
    "        data_labelized (dict): output of select_only_label_images\n",
    "\n",
    "    Returns:\n",
    "        Tuple[np.array, np.array]: X, y\n",
    "    \"\"\"\n",
    "    X, y = [], []\n",
    "    for name in data_labelized.keys():\n",
    "        X.append(data_labelized[name][\"image\"])\n",
    "        y.append(data_labelized[name][\"label\"])\n",
    "    return np.array(X), np.array(y)"
   ]
  },
  {
   "attachments": {},
   "cell_type": "markdown",
   "metadata": {},
   "source": [
    "### Split the Data and select either expert, amateur or both datasets"
   ]
  },
  {
   "cell_type": "code",
   "execution_count": 29,
   "metadata": {},
   "outputs": [
    {
     "name": "stderr",
     "output_type": "stream",
     "text": [
      "/var/folders/rg/xgkyjs4945d6ckms1nn6v0jm0000gn/T/ipykernel_2386/751181434.py:19: VisibleDeprecationWarning: Creating an ndarray from ragged nested sequences (which is a list-or-tuple of lists-or-tuples-or ndarrays with different lengths or shapes) is deprecated. If you meant to do this, you must specify 'dtype=object' when creating the ndarray.\n",
      "  return np.array(X), np.array(y)\n"
     ]
    }
   ],
   "source": [
    "train_data_expert = select_dataset(train_data, \"expert\")\n",
    "train_data_expert_labelized = select_only_label_images(train_data_expert)\n",
    "X_train_expert, y_train_expert = create_X_y(train_data_expert_labelized)"
   ]
  },
  {
   "attachments": {},
   "cell_type": "markdown",
   "metadata": {},
   "source": [
    "### Plot the data and its label overlaid"
   ]
  },
  {
   "cell_type": "code",
   "execution_count": 64,
   "metadata": {},
   "outputs": [],
   "source": [
    "def labelize_image(image:np.array, label:np.array) -> np.array:\n",
    "    \"\"\"Labelize image (put the Mitral Valve detected fron label in white)\n",
    "\n",
    "    Args:\n",
    "        image (np.array): image\n",
    "        label (np.array): label\n",
    "\n",
    "    Returns:\n",
    "        np.array: labelized image\n",
    "    \"\"\"\n",
    "    labelized_image = image.copy()\n",
    "    label = label.astype(np.uint8)  #convert to an unsigned byte\n",
    "    label*=255\n",
    "    labelized_image[label == 255] = 255\n",
    "    cv2.imshow(\"labelized\", labelized_image)\n",
    "    cv2.waitKey(0)\n",
    "    return "
   ]
  },
  {
   "cell_type": "code",
   "execution_count": 65,
   "metadata": {},
   "outputs": [
    {
     "data": {
      "text/plain": [
       "113"
      ]
     },
     "execution_count": 65,
     "metadata": {},
     "output_type": "execute_result"
    }
   ],
   "source": [
    "image, label = X_train_expert[1], y_train_expert[1]\n",
    "labelized_image = labelize_image(image, label)"
   ]
  },
  {
   "attachments": {},
   "cell_type": "markdown",
   "metadata": {},
   "source": [
    "### Visualize one given image"
   ]
  },
  {
   "cell_type": "code",
   "execution_count": 7,
   "metadata": {},
   "outputs": [],
   "source": [
    "def visualize_and_resize(image:np.array, size:int, time:int):\n",
    "    \"\"\"Visualize an image for a certain time (useful to visualize the video afterwards)\n",
    "\n",
    "    Args:\n",
    "        image (np.array): image or frame from a given video\n",
    "        size (int): size to display the image\n",
    "        time (int): time in ms to display the image\n",
    "    \"\"\"\n",
    "    up_points = (size, size)\n",
    "    resized_up = cv2.resize(image, up_points, interpolation=cv2.INTER_LINEAR)\n",
    "    cv2.imshow(\"Image\", resized_up)\n",
    "    cv2.waitKey(time)"
   ]
  },
  {
   "cell_type": "code",
   "execution_count": 8,
   "metadata": {},
   "outputs": [],
   "source": [
    "first_video = train_data[0]\n",
    "video = first_video[\"video\"]\n",
    "first_image = video[:,:,0]\n",
    "visualize_and_resize(first_image, 600, 0)\n"
   ]
  },
  {
   "attachments": {},
   "cell_type": "markdown",
   "metadata": {},
   "source": [
    "### Save Predictions"
   ]
  },
  {
   "cell_type": "code",
   "execution_count": 9,
   "metadata": {},
   "outputs": [
    {
     "name": "stderr",
     "output_type": "stream",
     "text": [
      "/var/folders/rg/xgkyjs4945d6ckms1nn6v0jm0000gn/T/ipykernel_2386/701677749.py:4: DeprecationWarning: `np.bool` is a deprecated alias for the builtin `bool`. To silence this warning, use `bool` by itself. Doing this will not modify any behavior and is safe. If you specifically wanted the numpy scalar type, use `np.bool_` here.\n",
      "Deprecated in NumPy 1.20; for more details and guidance: https://numpy.org/devdocs/release/1.20.0-notes.html#deprecations\n",
      "  prediction = np.array(np.zeros_like(d['video']), dtype=np.bool)\n"
     ]
    }
   ],
   "source": [
    "# make prediction for test\n",
    "predictions = []\n",
    "for d in test_data:\n",
    "    prediction = np.array(np.zeros_like(d['video']), dtype=np.bool)\n",
    "    height = prediction.shape[0]\n",
    "    width = prediction.shape[1]\n",
    "    prediction[int(height/2)-50:int(height/2+50), int(width/2)-50:int(width/2+50)] = True\n",
    "    \n",
    "    # DATA Strucure\n",
    "    predictions.append({\n",
    "        'name': d['name'],\n",
    "        'prediction': prediction\n",
    "        }\n",
    "    )"
   ]
  },
  {
   "cell_type": "code",
   "execution_count": 10,
   "metadata": {},
   "outputs": [],
   "source": [
    "# save in correct format\n",
    "save_zipped_pickle(predictions, 'my_predictions.pkl')"
   ]
  }
 ],
 "metadata": {
  "kernelspec": {
   "display_name": "Python 3.10.0 ('aml')",
   "language": "python",
   "name": "python3"
  },
  "language_info": {
   "codemirror_mode": {
    "name": "ipython",
    "version": 3
   },
   "file_extension": ".py",
   "mimetype": "text/x-python",
   "name": "python",
   "nbconvert_exporter": "python",
   "pygments_lexer": "ipython3",
   "version": "3.10.0 (default, Mar  3 2022, 03:57:21) [Clang 12.0.0 ]"
  },
  "vscode": {
   "interpreter": {
    "hash": "53205f1a5bceb014cede6b4cb20e924585cbbcf89cb486efb59ab5521987e362"
   }
  }
 },
 "nbformat": 4,
 "nbformat_minor": 4
}
